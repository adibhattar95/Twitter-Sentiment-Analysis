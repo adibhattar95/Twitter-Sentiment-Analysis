{
  "nbformat": 4,
  "nbformat_minor": 0,
  "metadata": {
    "colab": {
      "name": "Sentiment Analysis using RNN.ipynb",
      "provenance": []
    },
    "kernelspec": {
      "name": "python3",
      "display_name": "Python 3"
    },
    "accelerator": "GPU"
  },
  "cells": [
    {
      "cell_type": "code",
      "metadata": {
        "id": "xwIHKnlKEfsO",
        "colab_type": "code",
        "colab": {
          "resources": {
            "http://localhost:8080/nbextensions/google.colab/files.js": {
              "data": "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",
              "ok": true,
              "headers": [
                [
                  "content-type",
                  "application/javascript"
                ]
              ],
              "status": 200,
              "status_text": ""
            }
          },
          "base_uri": "https://localhost:8080/",
          "height": 74
        },
        "outputId": "c3a4a5a3-f3d5-4161-edd1-d8de8e96a4d6"
      },
      "source": [
        "#Upload train file\n",
        "from google.colab import files\n",
        "uploaded = files.upload()"
      ],
      "execution_count": 8,
      "outputs": [
        {
          "output_type": "display_data",
          "data": {
            "text/html": [
              "\n",
              "     <input type=\"file\" id=\"files-dd9041d8-66ba-480c-93db-068ee2a1c1cb\" name=\"files[]\" multiple disabled />\n",
              "     <output id=\"result-dd9041d8-66ba-480c-93db-068ee2a1c1cb\">\n",
              "      Upload widget is only available when the cell has been executed in the\n",
              "      current browser session. Please rerun this cell to enable.\n",
              "      </output>\n",
              "      <script src=\"/nbextensions/google.colab/files.js\"></script> "
            ],
            "text/plain": [
              "<IPython.core.display.HTML object>"
            ]
          },
          "metadata": {
            "tags": []
          }
        },
        {
          "output_type": "stream",
          "text": [
            "Saving train.csv to train.csv\n"
          ],
          "name": "stdout"
        }
      ]
    },
    {
      "cell_type": "code",
      "metadata": {
        "id": "_cpYoy7fFpaJ",
        "colab_type": "code",
        "colab": {
          "resources": {
            "http://localhost:8080/nbextensions/google.colab/files.js": {
              "data": "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",
              "ok": true,
              "headers": [
                [
                  "content-type",
                  "application/javascript"
                ]
              ],
              "status": 200,
              "status_text": ""
            }
          },
          "base_uri": "https://localhost:8080/",
          "height": 74
        },
        "outputId": "db4b360d-1063-4793-cfe2-f208072e641b"
      },
      "source": [
        "#Upload test file\n",
        "uploaded = files.upload()"
      ],
      "execution_count": 2,
      "outputs": [
        {
          "output_type": "display_data",
          "data": {
            "text/html": [
              "\n",
              "     <input type=\"file\" id=\"files-8d1240e1-745e-43dd-9b58-4ea4faafb2ad\" name=\"files[]\" multiple disabled />\n",
              "     <output id=\"result-8d1240e1-745e-43dd-9b58-4ea4faafb2ad\">\n",
              "      Upload widget is only available when the cell has been executed in the\n",
              "      current browser session. Please rerun this cell to enable.\n",
              "      </output>\n",
              "      <script src=\"/nbextensions/google.colab/files.js\"></script> "
            ],
            "text/plain": [
              "<IPython.core.display.HTML object>"
            ]
          },
          "metadata": {
            "tags": []
          }
        },
        {
          "output_type": "stream",
          "text": [
            "Saving test.csv to test (1).csv\n"
          ],
          "name": "stdout"
        }
      ]
    },
    {
      "cell_type": "code",
      "metadata": {
        "id": "iFIYUVxsEGeP",
        "colab_type": "code",
        "colab": {}
      },
      "source": [
        "#Import libraries\n",
        "import re\n",
        "import numpy as np\n",
        "import pandas as pd\n",
        "from tensorflow.keras.preprocessing import sequence\n",
        "from tensorflow.keras.models import Sequential\n",
        "from tensorflow.keras.layers import Dense, Embedding\n",
        "from tensorflow.keras.layers import LSTM\n",
        "from tensorflow.keras.utils import to_categorical\n",
        "from tensorflow.keras.preprocessing.text import Tokenizer\n",
        "from tensorflow.keras.preprocessing.sequence import pad_sequences\n",
        "import nltk\n",
        "from nltk.corpus import stopwords\n",
        "from nltk.tokenize import word_tokenize\n",
        "from sklearn.feature_extraction.text import CountVectorizer\n",
        "vect = CountVectorizer()\n",
        "from sklearn import metrics\n",
        "import seaborn as sns\n",
        "%matplotlib inline\n",
        "import matplotlib.pyplot as plt\n",
        "import warnings\n",
        "warnings.filterwarnings('ignore')\n",
        "import tensorflow as tf\n",
        "import random\n",
        "from sklearn.model_selection import train_test_split as tts\n",
        "from sklearn.metrics import classification_report"
      ],
      "execution_count": 0,
      "outputs": []
    },
    {
      "cell_type": "code",
      "metadata": {
        "id": "yTG0tMwAEtAC",
        "colab_type": "code",
        "colab": {
          "base_uri": "https://localhost:8080/",
          "height": 235
        },
        "outputId": "0c5d1f71-bd98-4d94-cba9-668d37b4bf87"
      },
      "source": [
        "#Load and view dataset\n",
        "df_train = pd.read_csv('train.csv')\n",
        "print(df_train.head())\n",
        "print(\"=\"*50)\n",
        "df_test = pd.read_csv('test.csv')\n",
        "print(df_test.head())"
      ],
      "execution_count": 63,
      "outputs": [
        {
          "output_type": "stream",
          "text": [
            "   tweet_id                                              tweet  sentiment\n",
            "0      1701  #sxswnui #sxsw #apple defining language of tou...          1\n",
            "1      1851  Learning ab Google doodles! All doodles should...          1\n",
            "2      2689  one of the most in-your-face ex. of stealing t...          2\n",
            "3      4525  This iPhone #SXSW app would b pretty awesome i...          0\n",
            "4      3604  Line outside the Apple store in Austin waiting...          1\n",
            "==================================================\n",
            "   tweet_id                                              tweet\n",
            "0      7506  Audience Q: What prototyping tools do you use?...\n",
            "1      7992  At SXSW? Send Your Best Photos &amp; Videos to...\n",
            "2       247  @mention  and here's a pic of you winning your...\n",
            "3      7688  Google Marissa Mayer: mobile phone as a cursor...\n",
            "4      3294    #SXSW Google maps is even cooler than I thought\n"
          ],
          "name": "stdout"
        }
      ]
    },
    {
      "cell_type": "code",
      "metadata": {
        "id": "jxW0eRg0FEP5",
        "colab_type": "code",
        "colab": {}
      },
      "source": [
        "#we make text lower case and leave only letters from a-z and digits\n",
        "df_train['tweet'] = df_train['tweet'].astype(str)\n",
        "df_train['tweet'] = df_train['tweet'].str.lower()\n",
        "df_train['tweet'] = df_train['tweet'].apply((lambda x: re.sub('[^a-zA-z0-9\\s]','',x)))\n",
        "\n",
        "df_test['tweet'] = df_test['tweet'].astype(str)\n",
        "df_test['tweet'] = df_test['tweet'].str.lower()\n",
        "df_test['tweet'] = df_test['tweet'].apply((lambda x: re.sub('[^a-zA-z0-9\\s]', '', x)))"
      ],
      "execution_count": 0,
      "outputs": []
    },
    {
      "cell_type": "code",
      "metadata": {
        "id": "cdkZXMSZHzDy",
        "colab_type": "code",
        "colab": {}
      },
      "source": [
        "#Specify parameters for modelling\n",
        "vocab_size = 50000\n",
        "embedding_dim = 100\n",
        "trunc_type='post'\n",
        "oov_tok = \"<OOV>\"\n",
        "training_size = len(df_train['tweet'])\n",
        "test_portion = 0.2"
      ],
      "execution_count": 0,
      "outputs": []
    },
    {
      "cell_type": "code",
      "metadata": {
        "id": "24TD-rj9KXOQ",
        "colab_type": "code",
        "colab": {
          "base_uri": "https://localhost:8080/",
          "height": 34
        },
        "outputId": "4a8df4ae-2777-42a9-ad11-8619b85bd92a"
      },
      "source": [
        "#Find tweet with max_length\n",
        "max_length = max([len(s.split()) for s in df_train['tweet']])\n",
        "max_length"
      ],
      "execution_count": 66,
      "outputs": [
        {
          "output_type": "execute_result",
          "data": {
            "text/plain": [
              "33"
            ]
          },
          "metadata": {
            "tags": []
          },
          "execution_count": 66
        }
      ]
    },
    {
      "cell_type": "code",
      "metadata": {
        "id": "Nu_iulh-T56B",
        "colab_type": "code",
        "colab": {}
      },
      "source": [
        "#Define X and Y\n",
        "X = df_train['tweet']\n",
        "y = df_train['sentiment']"
      ],
      "execution_count": 0,
      "outputs": []
    },
    {
      "cell_type": "code",
      "metadata": {
        "id": "RgyRgstuFWwx",
        "colab_type": "code",
        "colab": {}
      },
      "source": [
        "#Split data into X_train, X_test, y_train, y_test\n",
        "X_train, X_validation, y_train, y_validation = tts(X, y, test_size = 0.2, random_state = 42)\n",
        "\n",
        "#Tokenize X_train\n",
        "tokenizer = Tokenizer(oov_token=oov_tok, num_words=vocab_size)\n",
        "tokenizer.fit_on_texts(X_train.values)\n",
        "word_index = tokenizer.word_index\n",
        "\n",
        "#Convert tweets to sequences\n",
        "X_train = tokenizer.texts_to_sequences(X_train)\n",
        "X_validation = tokenizer.texts_to_sequences(X_validation)\n",
        "\n",
        "#Pad train sequences\n",
        "X_train = pad_sequences(X_train, max_length, truncating=trunc_type, padding = 'post')\n",
        "X_validation = pad_sequences(X_validation, max_length, truncating=trunc_type, padding = 'post')"
      ],
      "execution_count": 0,
      "outputs": []
    },
    {
      "cell_type": "code",
      "metadata": {
        "id": "S7j68wr6Ks6p",
        "colab_type": "code",
        "colab": {
          "base_uri": "https://localhost:8080/",
          "height": 50
        },
        "outputId": "f5556c67-ef3e-4eff-af31-30a9a833c635"
      },
      "source": [
        "#View shape of X_train and X_test\n",
        "print(X_train.shape)\n",
        "print(X_validation.shape)"
      ],
      "execution_count": 69,
      "outputs": [
        {
          "output_type": "stream",
          "text": [
            "(5819, 33)\n",
            "(1455, 33)\n"
          ],
          "name": "stdout"
        }
      ]
    },
    {
      "cell_type": "code",
      "metadata": {
        "id": "5fiM_KxPaUug",
        "colab_type": "code",
        "colab": {
          "base_uri": "https://localhost:8080/",
          "height": 202
        },
        "outputId": "885afb23-2efc-4da9-e2b5-0a3438257874"
      },
      "source": [
        "#Use pretrained Glove embeddings for prediction\n",
        "!wget --no-check-certificate \\\n",
        "    https://storage.googleapis.com/laurencemoroney-blog.appspot.com/glove.6B.100d.txt \\\n",
        "    -O /tmp/glove.6B.100d.txt\n",
        "embeddings_index = {};\n",
        "with open('/tmp/glove.6B.100d.txt') as f:\n",
        "    for line in f:\n",
        "        values = line.split();\n",
        "        word = values[0];\n",
        "        coefs = np.asarray(values[1:], dtype='float32');\n",
        "        embeddings_index[word] = coefs;\n",
        "\n",
        "embeddings_matrix = np.zeros((vocab_size+1, embedding_dim));\n",
        "for word, i in word_index.items():\n",
        "    embedding_vector = embeddings_index.get(word);\n",
        "    if embedding_vector is not None:\n",
        "        embeddings_matrix[i] = embedding_vector;"
      ],
      "execution_count": 70,
      "outputs": [
        {
          "output_type": "stream",
          "text": [
            "--2020-05-18 10:53:08--  https://storage.googleapis.com/laurencemoroney-blog.appspot.com/glove.6B.100d.txt\n",
            "Resolving storage.googleapis.com (storage.googleapis.com)... 74.125.203.128, 2404:6800:4008:c02::80\n",
            "Connecting to storage.googleapis.com (storage.googleapis.com)|74.125.203.128|:443... connected.\n",
            "HTTP request sent, awaiting response... 200 OK\n",
            "Length: 347116733 (331M) [text/plain]\n",
            "Saving to: ‘/tmp/glove.6B.100d.txt’\n",
            "\n",
            "/tmp/glove.6B.100d. 100%[===================>] 331.04M  86.1MB/s    in 3.8s    \n",
            "\n",
            "2020-05-18 10:53:12 (86.1 MB/s) - ‘/tmp/glove.6B.100d.txt’ saved [347116733/347116733]\n",
            "\n"
          ],
          "name": "stdout"
        }
      ]
    },
    {
      "cell_type": "code",
      "metadata": {
        "id": "gESBlWYcKySJ",
        "colab_type": "code",
        "colab": {}
      },
      "source": [
        "#Build Model architecture\n",
        "model = Sequential([\n",
        "    Embedding(vocab_size+1, embedding_dim, input_length = max_length),\n",
        "    tf.keras.layers.Bidirectional(LSTM(256, dropout= 0.2, return_sequences=True)),\n",
        "    tf.keras.layers.Bidirectional(LSTM(128, dropout= 0.2)),\n",
        "    tf.keras.layers.Dense(10, activation = 'relu'),\n",
        "    tf.keras.layers.Dropout(0.2),\n",
        "    tf.keras.layers.Dense(4, activation = 'softmax')\n",
        "])\n",
        "\n",
        "model.compile(optimizer = 'adam', loss = 'sparse_categorical_crossentropy', metrics = ['accuracy'])"
      ],
      "execution_count": 0,
      "outputs": []
    },
    {
      "cell_type": "code",
      "metadata": {
        "id": "Wc4mN7euLkOf",
        "colab_type": "code",
        "colab": {
          "base_uri": "https://localhost:8080/",
          "height": 370
        },
        "outputId": "3251ba90-9b34-415d-ce67-df225a39b242"
      },
      "source": [
        "#View model summary\n",
        "print(model.summary())"
      ],
      "execution_count": 82,
      "outputs": [
        {
          "output_type": "stream",
          "text": [
            "Model: \"sequential_6\"\n",
            "_________________________________________________________________\n",
            "Layer (type)                 Output Shape              Param #   \n",
            "=================================================================\n",
            "embedding_6 (Embedding)      (None, 33, 100)           5000100   \n",
            "_________________________________________________________________\n",
            "bidirectional_12 (Bidirectio (None, 33, 512)           731136    \n",
            "_________________________________________________________________\n",
            "bidirectional_13 (Bidirectio (None, 256)               656384    \n",
            "_________________________________________________________________\n",
            "dense_12 (Dense)             (None, 10)                2570      \n",
            "_________________________________________________________________\n",
            "dropout_3 (Dropout)          (None, 10)                0         \n",
            "_________________________________________________________________\n",
            "dense_13 (Dense)             (None, 4)                 44        \n",
            "=================================================================\n",
            "Total params: 6,390,234\n",
            "Trainable params: 6,390,234\n",
            "Non-trainable params: 0\n",
            "_________________________________________________________________\n",
            "None\n"
          ],
          "name": "stdout"
        }
      ]
    },
    {
      "cell_type": "code",
      "metadata": {
        "id": "L4z2tU8KZASh",
        "colab_type": "code",
        "colab": {}
      },
      "source": [
        "#Specify weights for classes\n",
        "weights = {0: 16, 1: 1.7, 2: 3, 3: 59}"
      ],
      "execution_count": 0,
      "outputs": []
    },
    {
      "cell_type": "code",
      "metadata": {
        "id": "cHTASyrRMStB",
        "colab_type": "code",
        "colab": {
          "base_uri": "https://localhost:8080/",
          "height": 1000
        },
        "outputId": "7e763609-a61c-412a-df94-9fe6b9e27949"
      },
      "source": [
        "#Fit model on X_train, y_train\n",
        "history = model.fit(X_train, y_train, epochs=200, validation_data=(X_validation, y_validation), verbose=2, batch_size = 32)"
      ],
      "execution_count": 85,
      "outputs": [
        {
          "output_type": "stream",
          "text": [
            "Epoch 1/200\n",
            "182/182 - 9s - loss: 1.3659 - accuracy: 0.4936 - val_loss: 1.3299 - val_accuracy: 0.5986\n",
            "Epoch 2/200\n",
            "182/182 - 9s - loss: 1.2025 - accuracy: 0.5857 - val_loss: 0.8698 - val_accuracy: 0.5986\n",
            "Epoch 3/200\n",
            "182/182 - 9s - loss: 0.8729 - accuracy: 0.6149 - val_loss: 0.8243 - val_accuracy: 0.6426\n",
            "Epoch 4/200\n",
            "182/182 - 9s - loss: 0.7466 - accuracy: 0.6965 - val_loss: 0.8710 - val_accuracy: 0.6550\n",
            "Epoch 5/200\n",
            "182/182 - 9s - loss: 0.6506 - accuracy: 0.7410 - val_loss: 0.9625 - val_accuracy: 0.6488\n",
            "Epoch 6/200\n",
            "182/182 - 9s - loss: 0.5550 - accuracy: 0.7708 - val_loss: 0.9782 - val_accuracy: 0.6509\n",
            "Epoch 7/200\n",
            "182/182 - 9s - loss: 0.4276 - accuracy: 0.8364 - val_loss: 1.1468 - val_accuracy: 0.6426\n",
            "Epoch 8/200\n",
            "182/182 - 9s - loss: 0.3300 - accuracy: 0.8704 - val_loss: 1.1972 - val_accuracy: 0.6522\n",
            "Epoch 9/200\n",
            "182/182 - 9s - loss: 0.2698 - accuracy: 0.8861 - val_loss: 1.4740 - val_accuracy: 0.6337\n",
            "Epoch 10/200\n",
            "182/182 - 9s - loss: 0.2433 - accuracy: 0.8940 - val_loss: 1.6627 - val_accuracy: 0.6467\n",
            "Epoch 11/200\n",
            "182/182 - 9s - loss: 0.2252 - accuracy: 0.9031 - val_loss: 1.6865 - val_accuracy: 0.6227\n",
            "Epoch 12/200\n",
            "182/182 - 9s - loss: 0.1901 - accuracy: 0.9216 - val_loss: 1.6943 - val_accuracy: 0.6309\n",
            "Epoch 13/200\n",
            "182/182 - 9s - loss: 0.1649 - accuracy: 0.9325 - val_loss: 2.1104 - val_accuracy: 0.6412\n",
            "Epoch 14/200\n",
            "182/182 - 9s - loss: 0.1540 - accuracy: 0.9354 - val_loss: 2.1128 - val_accuracy: 0.6440\n",
            "Epoch 15/200\n",
            "182/182 - 9s - loss: 0.1341 - accuracy: 0.9409 - val_loss: 2.3406 - val_accuracy: 0.6405\n",
            "Epoch 16/200\n",
            "182/182 - 9s - loss: 0.1272 - accuracy: 0.9441 - val_loss: 2.4122 - val_accuracy: 0.6131\n",
            "Epoch 17/200\n",
            "182/182 - 9s - loss: 0.1260 - accuracy: 0.9424 - val_loss: 2.1778 - val_accuracy: 0.6124\n",
            "Epoch 18/200\n",
            "182/182 - 9s - loss: 0.1180 - accuracy: 0.9467 - val_loss: 2.2796 - val_accuracy: 0.6405\n",
            "Epoch 19/200\n",
            "182/182 - 9s - loss: 0.1118 - accuracy: 0.9510 - val_loss: 2.5872 - val_accuracy: 0.6323\n",
            "Epoch 20/200\n",
            "182/182 - 9s - loss: 0.0932 - accuracy: 0.9605 - val_loss: 2.9919 - val_accuracy: 0.6337\n",
            "Epoch 21/200\n",
            "182/182 - 9s - loss: 0.1083 - accuracy: 0.9558 - val_loss: 2.6111 - val_accuracy: 0.6351\n",
            "Epoch 22/200\n",
            "182/182 - 9s - loss: 0.1061 - accuracy: 0.9576 - val_loss: 2.5428 - val_accuracy: 0.6330\n",
            "Epoch 23/200\n",
            "182/182 - 9s - loss: 0.0880 - accuracy: 0.9612 - val_loss: 2.9531 - val_accuracy: 0.6385\n",
            "Epoch 24/200\n",
            "182/182 - 9s - loss: 0.0848 - accuracy: 0.9670 - val_loss: 3.1307 - val_accuracy: 0.6192\n",
            "Epoch 25/200\n",
            "182/182 - 9s - loss: 0.0810 - accuracy: 0.9673 - val_loss: 2.9761 - val_accuracy: 0.6227\n",
            "Epoch 26/200\n",
            "182/182 - 9s - loss: 0.0750 - accuracy: 0.9667 - val_loss: 3.1599 - val_accuracy: 0.6151\n",
            "Epoch 27/200\n",
            "182/182 - 9s - loss: 0.0685 - accuracy: 0.9730 - val_loss: 3.1503 - val_accuracy: 0.6247\n",
            "Epoch 28/200\n",
            "182/182 - 9s - loss: 0.0651 - accuracy: 0.9708 - val_loss: 3.6644 - val_accuracy: 0.6186\n",
            "Epoch 29/200\n",
            "182/182 - 9s - loss: 0.0728 - accuracy: 0.9682 - val_loss: 2.9425 - val_accuracy: 0.6041\n",
            "Epoch 30/200\n",
            "182/182 - 9s - loss: 0.0845 - accuracy: 0.9661 - val_loss: 3.4021 - val_accuracy: 0.6048\n",
            "Epoch 31/200\n",
            "182/182 - 9s - loss: 0.0589 - accuracy: 0.9722 - val_loss: 3.6008 - val_accuracy: 0.6096\n",
            "Epoch 32/200\n",
            "182/182 - 9s - loss: 0.0791 - accuracy: 0.9691 - val_loss: 3.5703 - val_accuracy: 0.6309\n",
            "Epoch 33/200\n",
            "182/182 - 9s - loss: 0.0675 - accuracy: 0.9715 - val_loss: 3.2092 - val_accuracy: 0.6296\n",
            "Epoch 34/200\n",
            "182/182 - 9s - loss: 0.0652 - accuracy: 0.9713 - val_loss: 3.4506 - val_accuracy: 0.6254\n",
            "Epoch 35/200\n",
            "182/182 - 9s - loss: 0.0563 - accuracy: 0.9747 - val_loss: 4.0305 - val_accuracy: 0.6234\n",
            "Epoch 36/200\n",
            "182/182 - 9s - loss: 0.0646 - accuracy: 0.9708 - val_loss: 3.4651 - val_accuracy: 0.6151\n",
            "Epoch 37/200\n",
            "182/182 - 9s - loss: 0.0660 - accuracy: 0.9716 - val_loss: 3.5303 - val_accuracy: 0.6213\n",
            "Epoch 38/200\n",
            "182/182 - 9s - loss: 0.0483 - accuracy: 0.9787 - val_loss: 4.2811 - val_accuracy: 0.6110\n",
            "Epoch 39/200\n",
            "182/182 - 9s - loss: 0.0512 - accuracy: 0.9778 - val_loss: 4.1720 - val_accuracy: 0.6172\n",
            "Epoch 40/200\n",
            "182/182 - 9s - loss: 0.0503 - accuracy: 0.9765 - val_loss: 4.2383 - val_accuracy: 0.6227\n",
            "Epoch 41/200\n",
            "182/182 - 9s - loss: 0.0471 - accuracy: 0.9787 - val_loss: 4.0395 - val_accuracy: 0.6117\n",
            "Epoch 42/200\n",
            "182/182 - 9s - loss: 0.0460 - accuracy: 0.9771 - val_loss: 4.2881 - val_accuracy: 0.6213\n",
            "Epoch 43/200\n",
            "182/182 - 9s - loss: 0.0615 - accuracy: 0.9741 - val_loss: 3.7469 - val_accuracy: 0.6165\n",
            "Epoch 44/200\n",
            "182/182 - 9s - loss: 0.0476 - accuracy: 0.9751 - val_loss: 4.4408 - val_accuracy: 0.6241\n",
            "Epoch 45/200\n",
            "182/182 - 9s - loss: 0.0549 - accuracy: 0.9751 - val_loss: 3.9770 - val_accuracy: 0.6186\n",
            "Epoch 46/200\n",
            "182/182 - 9s - loss: 0.0474 - accuracy: 0.9782 - val_loss: 4.4140 - val_accuracy: 0.6206\n",
            "Epoch 47/200\n",
            "182/182 - 9s - loss: 0.0552 - accuracy: 0.9739 - val_loss: 4.1762 - val_accuracy: 0.6357\n",
            "Epoch 48/200\n",
            "182/182 - 9s - loss: 0.0515 - accuracy: 0.9766 - val_loss: 4.3756 - val_accuracy: 0.6289\n",
            "Epoch 49/200\n",
            "182/182 - 9s - loss: 0.0526 - accuracy: 0.9766 - val_loss: 3.8233 - val_accuracy: 0.6399\n",
            "Epoch 50/200\n",
            "182/182 - 9s - loss: 0.0510 - accuracy: 0.9754 - val_loss: 3.7837 - val_accuracy: 0.6117\n",
            "Epoch 51/200\n",
            "182/182 - 9s - loss: 0.0499 - accuracy: 0.9753 - val_loss: 4.0239 - val_accuracy: 0.6151\n",
            "Epoch 52/200\n",
            "182/182 - 9s - loss: 0.0443 - accuracy: 0.9768 - val_loss: 4.3212 - val_accuracy: 0.6330\n",
            "Epoch 53/200\n",
            "182/182 - 9s - loss: 0.0492 - accuracy: 0.9797 - val_loss: 4.3298 - val_accuracy: 0.6275\n",
            "Epoch 54/200\n",
            "182/182 - 9s - loss: 0.0369 - accuracy: 0.9842 - val_loss: 5.1018 - val_accuracy: 0.6041\n",
            "Epoch 55/200\n",
            "182/182 - 9s - loss: 0.0373 - accuracy: 0.9826 - val_loss: 4.3913 - val_accuracy: 0.5952\n",
            "Epoch 56/200\n",
            "182/182 - 9s - loss: 0.0460 - accuracy: 0.9802 - val_loss: 4.9118 - val_accuracy: 0.5993\n",
            "Epoch 57/200\n",
            "182/182 - 9s - loss: 0.0381 - accuracy: 0.9809 - val_loss: 4.9946 - val_accuracy: 0.6137\n",
            "Epoch 58/200\n",
            "182/182 - 9s - loss: 0.0397 - accuracy: 0.9826 - val_loss: 5.4162 - val_accuracy: 0.6199\n",
            "Epoch 59/200\n",
            "182/182 - 9s - loss: 0.0338 - accuracy: 0.9850 - val_loss: 5.4755 - val_accuracy: 0.6137\n",
            "Epoch 60/200\n",
            "182/182 - 9s - loss: 0.0336 - accuracy: 0.9840 - val_loss: 5.0924 - val_accuracy: 0.6179\n",
            "Epoch 61/200\n",
            "182/182 - 9s - loss: 0.0343 - accuracy: 0.9845 - val_loss: 5.3359 - val_accuracy: 0.6186\n",
            "Epoch 62/200\n",
            "182/182 - 9s - loss: 0.0469 - accuracy: 0.9838 - val_loss: 4.9017 - val_accuracy: 0.6076\n",
            "Epoch 63/200\n",
            "182/182 - 9s - loss: 0.0373 - accuracy: 0.9847 - val_loss: 4.6097 - val_accuracy: 0.6309\n",
            "Epoch 64/200\n",
            "182/182 - 9s - loss: 0.0374 - accuracy: 0.9871 - val_loss: 4.1244 - val_accuracy: 0.6199\n",
            "Epoch 65/200\n",
            "182/182 - 9s - loss: 0.0313 - accuracy: 0.9868 - val_loss: 4.6071 - val_accuracy: 0.6234\n",
            "Epoch 66/200\n",
            "182/182 - 9s - loss: 0.0530 - accuracy: 0.9814 - val_loss: 3.6313 - val_accuracy: 0.6000\n",
            "Epoch 67/200\n",
            "182/182 - 9s - loss: 0.0524 - accuracy: 0.9821 - val_loss: 3.9630 - val_accuracy: 0.6179\n",
            "Epoch 68/200\n",
            "182/182 - 9s - loss: 0.0332 - accuracy: 0.9856 - val_loss: 4.5041 - val_accuracy: 0.6357\n",
            "Epoch 69/200\n",
            "182/182 - 9s - loss: 0.0354 - accuracy: 0.9845 - val_loss: 4.7032 - val_accuracy: 0.6454\n",
            "Epoch 70/200\n",
            "182/182 - 9s - loss: 0.0344 - accuracy: 0.9869 - val_loss: 4.4858 - val_accuracy: 0.6247\n",
            "Epoch 71/200\n",
            "182/182 - 9s - loss: 0.0327 - accuracy: 0.9859 - val_loss: 4.7092 - val_accuracy: 0.6289\n",
            "Epoch 72/200\n",
            "182/182 - 9s - loss: 0.0274 - accuracy: 0.9864 - val_loss: 5.2846 - val_accuracy: 0.6309\n",
            "Epoch 73/200\n",
            "182/182 - 9s - loss: 0.0231 - accuracy: 0.9890 - val_loss: 5.4230 - val_accuracy: 0.6337\n",
            "Epoch 74/200\n",
            "182/182 - 9s - loss: 0.0235 - accuracy: 0.9888 - val_loss: 5.7557 - val_accuracy: 0.6296\n",
            "Epoch 75/200\n",
            "182/182 - 9s - loss: 0.0270 - accuracy: 0.9883 - val_loss: 5.1903 - val_accuracy: 0.6296\n",
            "Epoch 76/200\n",
            "182/182 - 9s - loss: 0.0263 - accuracy: 0.9878 - val_loss: 4.9923 - val_accuracy: 0.6241\n",
            "Epoch 77/200\n",
            "182/182 - 9s - loss: 0.0276 - accuracy: 0.9883 - val_loss: 4.9087 - val_accuracy: 0.5897\n",
            "Epoch 78/200\n",
            "182/182 - 9s - loss: 0.0573 - accuracy: 0.9835 - val_loss: 4.4036 - val_accuracy: 0.6275\n",
            "Epoch 79/200\n",
            "182/182 - 9s - loss: 0.0344 - accuracy: 0.9847 - val_loss: 4.5919 - val_accuracy: 0.6144\n",
            "Epoch 80/200\n",
            "182/182 - 9s - loss: 0.0289 - accuracy: 0.9887 - val_loss: 4.7057 - val_accuracy: 0.6206\n",
            "Epoch 81/200\n",
            "182/182 - 9s - loss: 0.0300 - accuracy: 0.9852 - val_loss: 4.7015 - val_accuracy: 0.6172\n",
            "Epoch 82/200\n",
            "182/182 - 9s - loss: 0.0268 - accuracy: 0.9893 - val_loss: 5.1248 - val_accuracy: 0.6206\n",
            "Epoch 83/200\n",
            "182/182 - 9s - loss: 0.0284 - accuracy: 0.9873 - val_loss: 4.6498 - val_accuracy: 0.6179\n",
            "Epoch 84/200\n",
            "182/182 - 9s - loss: 0.0218 - accuracy: 0.9902 - val_loss: 5.5849 - val_accuracy: 0.6227\n",
            "Epoch 85/200\n",
            "182/182 - 9s - loss: 0.0232 - accuracy: 0.9905 - val_loss: 5.5203 - val_accuracy: 0.6227\n",
            "Epoch 86/200\n",
            "182/182 - 9s - loss: 0.0320 - accuracy: 0.9861 - val_loss: 5.2298 - val_accuracy: 0.6433\n",
            "Epoch 87/200\n",
            "182/182 - 9s - loss: 0.0492 - accuracy: 0.9838 - val_loss: 4.4834 - val_accuracy: 0.6302\n",
            "Epoch 88/200\n",
            "182/182 - 9s - loss: 0.0407 - accuracy: 0.9857 - val_loss: 4.4622 - val_accuracy: 0.6282\n",
            "Epoch 89/200\n",
            "182/182 - 9s - loss: 0.0323 - accuracy: 0.9887 - val_loss: 4.5817 - val_accuracy: 0.6131\n",
            "Epoch 90/200\n",
            "182/182 - 9s - loss: 0.0313 - accuracy: 0.9869 - val_loss: 4.8686 - val_accuracy: 0.6220\n",
            "Epoch 91/200\n",
            "182/182 - 9s - loss: 0.0296 - accuracy: 0.9883 - val_loss: 4.8407 - val_accuracy: 0.6172\n",
            "Epoch 92/200\n",
            "182/182 - 9s - loss: 0.0511 - accuracy: 0.9856 - val_loss: 3.8874 - val_accuracy: 0.6357\n",
            "Epoch 93/200\n",
            "182/182 - 9s - loss: 0.0274 - accuracy: 0.9878 - val_loss: 4.3380 - val_accuracy: 0.6151\n",
            "Epoch 94/200\n",
            "182/182 - 9s - loss: 0.0203 - accuracy: 0.9904 - val_loss: 4.9094 - val_accuracy: 0.6227\n",
            "Epoch 95/200\n",
            "182/182 - 9s - loss: 0.0234 - accuracy: 0.9878 - val_loss: 4.9999 - val_accuracy: 0.6378\n",
            "Epoch 96/200\n",
            "182/182 - 9s - loss: 0.0250 - accuracy: 0.9881 - val_loss: 5.0842 - val_accuracy: 0.6234\n",
            "Epoch 97/200\n",
            "182/182 - 9s - loss: 0.0220 - accuracy: 0.9899 - val_loss: 4.8372 - val_accuracy: 0.6261\n",
            "Epoch 98/200\n",
            "182/182 - 9s - loss: 0.0223 - accuracy: 0.9897 - val_loss: 5.2729 - val_accuracy: 0.6275\n",
            "Epoch 99/200\n",
            "182/182 - 9s - loss: 0.0201 - accuracy: 0.9888 - val_loss: 5.4510 - val_accuracy: 0.6192\n",
            "Epoch 100/200\n",
            "182/182 - 9s - loss: 0.0208 - accuracy: 0.9902 - val_loss: 5.7167 - val_accuracy: 0.6289\n",
            "Epoch 101/200\n",
            "182/182 - 9s - loss: 0.0197 - accuracy: 0.9895 - val_loss: 5.8859 - val_accuracy: 0.6289\n",
            "Epoch 102/200\n",
            "182/182 - 9s - loss: 0.0232 - accuracy: 0.9885 - val_loss: 5.9082 - val_accuracy: 0.6302\n",
            "Epoch 103/200\n",
            "182/182 - 9s - loss: 0.0354 - accuracy: 0.9864 - val_loss: 5.4083 - val_accuracy: 0.6234\n",
            "Epoch 104/200\n",
            "182/182 - 9s - loss: 0.0300 - accuracy: 0.9857 - val_loss: 4.7199 - val_accuracy: 0.6227\n",
            "Epoch 105/200\n",
            "182/182 - 9s - loss: 0.0243 - accuracy: 0.9893 - val_loss: 5.6820 - val_accuracy: 0.6082\n",
            "Epoch 106/200\n",
            "182/182 - 9s - loss: 0.0328 - accuracy: 0.9868 - val_loss: 4.7662 - val_accuracy: 0.6351\n",
            "Epoch 107/200\n",
            "182/182 - 9s - loss: 0.0289 - accuracy: 0.9864 - val_loss: 4.6927 - val_accuracy: 0.6337\n",
            "Epoch 108/200\n",
            "182/182 - 9s - loss: 0.0304 - accuracy: 0.9885 - val_loss: 4.6501 - val_accuracy: 0.6275\n",
            "Epoch 109/200\n",
            "182/182 - 9s - loss: 0.0234 - accuracy: 0.9892 - val_loss: 5.2060 - val_accuracy: 0.6302\n",
            "Epoch 110/200\n",
            "182/182 - 9s - loss: 0.0332 - accuracy: 0.9873 - val_loss: 5.0609 - val_accuracy: 0.6385\n",
            "Epoch 111/200\n",
            "182/182 - 9s - loss: 0.0223 - accuracy: 0.9905 - val_loss: 5.6135 - val_accuracy: 0.6275\n",
            "Epoch 112/200\n",
            "182/182 - 9s - loss: 0.0270 - accuracy: 0.9883 - val_loss: 4.8202 - val_accuracy: 0.6323\n",
            "Epoch 113/200\n",
            "182/182 - 9s - loss: 0.0308 - accuracy: 0.9887 - val_loss: 5.3210 - val_accuracy: 0.6289\n",
            "Epoch 114/200\n",
            "182/182 - 9s - loss: 0.0224 - accuracy: 0.9895 - val_loss: 5.2185 - val_accuracy: 0.6337\n",
            "Epoch 115/200\n",
            "182/182 - 9s - loss: 0.0236 - accuracy: 0.9875 - val_loss: 5.3270 - val_accuracy: 0.6364\n",
            "Epoch 116/200\n",
            "182/182 - 9s - loss: 0.0204 - accuracy: 0.9905 - val_loss: 5.4108 - val_accuracy: 0.6399\n",
            "Epoch 117/200\n",
            "182/182 - 9s - loss: 0.0185 - accuracy: 0.9909 - val_loss: 6.0311 - val_accuracy: 0.6426\n",
            "Epoch 118/200\n",
            "182/182 - 9s - loss: 0.0212 - accuracy: 0.9905 - val_loss: 5.7367 - val_accuracy: 0.6467\n",
            "Epoch 119/200\n",
            "182/182 - 9s - loss: 0.0192 - accuracy: 0.9904 - val_loss: 5.4438 - val_accuracy: 0.6296\n",
            "Epoch 120/200\n",
            "182/182 - 9s - loss: 0.0194 - accuracy: 0.9900 - val_loss: 5.9528 - val_accuracy: 0.6316\n",
            "Epoch 121/200\n",
            "182/182 - 9s - loss: 0.0178 - accuracy: 0.9914 - val_loss: 5.9104 - val_accuracy: 0.6364\n",
            "Epoch 122/200\n",
            "182/182 - 9s - loss: 0.0174 - accuracy: 0.9916 - val_loss: 6.0900 - val_accuracy: 0.6309\n",
            "Epoch 123/200\n",
            "182/182 - 9s - loss: 0.0243 - accuracy: 0.9883 - val_loss: 5.1084 - val_accuracy: 0.6268\n",
            "Epoch 124/200\n",
            "182/182 - 9s - loss: 0.0249 - accuracy: 0.9883 - val_loss: 5.6716 - val_accuracy: 0.6392\n",
            "Epoch 125/200\n",
            "182/182 - 9s - loss: 0.0225 - accuracy: 0.9909 - val_loss: 5.2090 - val_accuracy: 0.6364\n",
            "Epoch 126/200\n",
            "182/182 - 9s - loss: 0.0277 - accuracy: 0.9909 - val_loss: 4.8754 - val_accuracy: 0.6385\n",
            "Epoch 127/200\n",
            "182/182 - 9s - loss: 0.0246 - accuracy: 0.9899 - val_loss: 5.6017 - val_accuracy: 0.6399\n",
            "Epoch 128/200\n",
            "182/182 - 9s - loss: 0.0171 - accuracy: 0.9921 - val_loss: 5.7346 - val_accuracy: 0.6419\n",
            "Epoch 129/200\n",
            "182/182 - 9s - loss: 0.0157 - accuracy: 0.9916 - val_loss: 6.1118 - val_accuracy: 0.6323\n",
            "Epoch 130/200\n",
            "182/182 - 9s - loss: 0.0222 - accuracy: 0.9895 - val_loss: 5.4884 - val_accuracy: 0.6405\n",
            "Epoch 131/200\n",
            "182/182 - 9s - loss: 0.0226 - accuracy: 0.9885 - val_loss: 5.6739 - val_accuracy: 0.6371\n",
            "Epoch 132/200\n",
            "182/182 - 9s - loss: 0.0185 - accuracy: 0.9902 - val_loss: 6.0331 - val_accuracy: 0.6234\n",
            "Epoch 133/200\n",
            "182/182 - 9s - loss: 0.0215 - accuracy: 0.9916 - val_loss: 5.9449 - val_accuracy: 0.6392\n",
            "Epoch 134/200\n",
            "182/182 - 9s - loss: 0.0186 - accuracy: 0.9900 - val_loss: 6.0390 - val_accuracy: 0.6275\n",
            "Epoch 135/200\n",
            "182/182 - 9s - loss: 0.0157 - accuracy: 0.9921 - val_loss: 6.4850 - val_accuracy: 0.6302\n",
            "Epoch 136/200\n",
            "182/182 - 9s - loss: 0.0251 - accuracy: 0.9902 - val_loss: 6.2107 - val_accuracy: 0.6268\n",
            "Epoch 137/200\n",
            "182/182 - 9s - loss: 0.0205 - accuracy: 0.9890 - val_loss: 5.9999 - val_accuracy: 0.6309\n",
            "Epoch 138/200\n",
            "182/182 - 9s - loss: 0.0300 - accuracy: 0.9887 - val_loss: 5.4264 - val_accuracy: 0.6344\n",
            "Epoch 139/200\n",
            "182/182 - 9s - loss: 0.0306 - accuracy: 0.9888 - val_loss: 4.7674 - val_accuracy: 0.6357\n",
            "Epoch 140/200\n",
            "182/182 - 9s - loss: 0.0267 - accuracy: 0.9904 - val_loss: 4.9898 - val_accuracy: 0.6392\n",
            "Epoch 141/200\n",
            "182/182 - 9s - loss: 0.0178 - accuracy: 0.9909 - val_loss: 5.4765 - val_accuracy: 0.6371\n",
            "Epoch 142/200\n",
            "182/182 - 9s - loss: 0.0170 - accuracy: 0.9919 - val_loss: 5.3412 - val_accuracy: 0.6392\n",
            "Epoch 143/200\n",
            "182/182 - 9s - loss: 0.0146 - accuracy: 0.9936 - val_loss: 5.6190 - val_accuracy: 0.6323\n",
            "Epoch 144/200\n",
            "182/182 - 9s - loss: 0.0182 - accuracy: 0.9919 - val_loss: 5.8064 - val_accuracy: 0.6364\n",
            "Epoch 145/200\n",
            "182/182 - 9s - loss: 0.0142 - accuracy: 0.9921 - val_loss: 6.1339 - val_accuracy: 0.6323\n",
            "Epoch 146/200\n",
            "182/182 - 9s - loss: 0.0179 - accuracy: 0.9912 - val_loss: 5.7608 - val_accuracy: 0.6351\n",
            "Epoch 147/200\n",
            "182/182 - 9s - loss: 0.0217 - accuracy: 0.9909 - val_loss: 5.4652 - val_accuracy: 0.6385\n",
            "Epoch 148/200\n",
            "182/182 - 9s - loss: 0.0157 - accuracy: 0.9912 - val_loss: 5.8550 - val_accuracy: 0.6371\n",
            "Epoch 149/200\n",
            "182/182 - 9s - loss: 0.0172 - accuracy: 0.9911 - val_loss: 5.7298 - val_accuracy: 0.6351\n",
            "Epoch 150/200\n",
            "182/182 - 9s - loss: 0.0146 - accuracy: 0.9924 - val_loss: 5.8563 - val_accuracy: 0.6323\n",
            "Epoch 151/200\n",
            "182/182 - 9s - loss: 0.0140 - accuracy: 0.9940 - val_loss: 6.2105 - val_accuracy: 0.6247\n",
            "Epoch 152/200\n",
            "182/182 - 9s - loss: 0.0417 - accuracy: 0.9887 - val_loss: 4.9113 - val_accuracy: 0.6151\n",
            "Epoch 153/200\n",
            "182/182 - 9s - loss: 0.0278 - accuracy: 0.9883 - val_loss: 5.3014 - val_accuracy: 0.6399\n",
            "Epoch 154/200\n",
            "182/182 - 9s - loss: 0.0161 - accuracy: 0.9918 - val_loss: 5.6382 - val_accuracy: 0.6371\n",
            "Epoch 155/200\n",
            "182/182 - 9s - loss: 0.0139 - accuracy: 0.9930 - val_loss: 6.0284 - val_accuracy: 0.6385\n",
            "Epoch 156/200\n",
            "182/182 - 9s - loss: 0.0140 - accuracy: 0.9933 - val_loss: 6.2487 - val_accuracy: 0.6399\n",
            "Epoch 157/200\n",
            "182/182 - 9s - loss: 0.0144 - accuracy: 0.9919 - val_loss: 6.4661 - val_accuracy: 0.6351\n",
            "Epoch 158/200\n",
            "182/182 - 9s - loss: 0.0190 - accuracy: 0.9928 - val_loss: 6.2317 - val_accuracy: 0.6337\n",
            "Epoch 159/200\n",
            "182/182 - 9s - loss: 0.0134 - accuracy: 0.9924 - val_loss: 6.6611 - val_accuracy: 0.6364\n",
            "Epoch 160/200\n",
            "182/182 - 9s - loss: 0.0152 - accuracy: 0.9916 - val_loss: 6.8849 - val_accuracy: 0.6364\n",
            "Epoch 161/200\n",
            "182/182 - 9s - loss: 0.0136 - accuracy: 0.9914 - val_loss: 7.0594 - val_accuracy: 0.6302\n",
            "Epoch 162/200\n",
            "182/182 - 9s - loss: 0.0146 - accuracy: 0.9933 - val_loss: 7.0706 - val_accuracy: 0.6337\n",
            "Epoch 163/200\n",
            "182/182 - 9s - loss: 0.0131 - accuracy: 0.9923 - val_loss: 7.3980 - val_accuracy: 0.6247\n",
            "Epoch 164/200\n",
            "182/182 - 9s - loss: 0.0135 - accuracy: 0.9918 - val_loss: 6.6830 - val_accuracy: 0.6151\n",
            "Epoch 165/200\n",
            "182/182 - 9s - loss: 0.0390 - accuracy: 0.9869 - val_loss: 5.1336 - val_accuracy: 0.6344\n",
            "Epoch 166/200\n",
            "182/182 - 9s - loss: 0.0194 - accuracy: 0.9909 - val_loss: 5.4932 - val_accuracy: 0.6433\n",
            "Epoch 167/200\n",
            "182/182 - 9s - loss: 0.0129 - accuracy: 0.9938 - val_loss: 5.6438 - val_accuracy: 0.6351\n",
            "Epoch 168/200\n",
            "182/182 - 9s - loss: 0.0137 - accuracy: 0.9923 - val_loss: 6.2899 - val_accuracy: 0.6405\n",
            "Epoch 169/200\n",
            "182/182 - 9s - loss: 0.0184 - accuracy: 0.9911 - val_loss: 5.9875 - val_accuracy: 0.6385\n",
            "Epoch 170/200\n",
            "182/182 - 9s - loss: 0.0196 - accuracy: 0.9905 - val_loss: 6.2628 - val_accuracy: 0.6426\n",
            "Epoch 171/200\n",
            "182/182 - 9s - loss: 0.0169 - accuracy: 0.9928 - val_loss: 6.0195 - val_accuracy: 0.6261\n",
            "Epoch 172/200\n",
            "182/182 - 9s - loss: 0.0226 - accuracy: 0.9918 - val_loss: 5.6833 - val_accuracy: 0.6289\n",
            "Epoch 173/200\n",
            "182/182 - 9s - loss: 0.0153 - accuracy: 0.9916 - val_loss: 6.1512 - val_accuracy: 0.6316\n",
            "Epoch 174/200\n",
            "182/182 - 9s - loss: 0.0146 - accuracy: 0.9924 - val_loss: 6.0206 - val_accuracy: 0.6344\n",
            "Epoch 175/200\n",
            "182/182 - 9s - loss: 0.0154 - accuracy: 0.9921 - val_loss: 5.7712 - val_accuracy: 0.6296\n",
            "Epoch 176/200\n",
            "182/182 - 9s - loss: 0.0142 - accuracy: 0.9919 - val_loss: 6.1066 - val_accuracy: 0.6268\n",
            "Epoch 177/200\n",
            "182/182 - 9s - loss: 0.0170 - accuracy: 0.9919 - val_loss: 6.2765 - val_accuracy: 0.6192\n",
            "Epoch 178/200\n",
            "182/182 - 9s - loss: 0.0129 - accuracy: 0.9935 - val_loss: 6.8504 - val_accuracy: 0.6275\n",
            "Epoch 179/200\n",
            "182/182 - 9s - loss: 0.0115 - accuracy: 0.9936 - val_loss: 6.9111 - val_accuracy: 0.6282\n",
            "Epoch 180/200\n",
            "182/182 - 9s - loss: 0.0168 - accuracy: 0.9924 - val_loss: 6.4003 - val_accuracy: 0.6426\n",
            "Epoch 181/200\n",
            "182/182 - 9s - loss: 0.0144 - accuracy: 0.9924 - val_loss: 6.3783 - val_accuracy: 0.6213\n",
            "Epoch 182/200\n",
            "182/182 - 9s - loss: 0.0114 - accuracy: 0.9931 - val_loss: 7.1719 - val_accuracy: 0.6426\n",
            "Epoch 183/200\n",
            "182/182 - 9s - loss: 0.0117 - accuracy: 0.9942 - val_loss: 6.8972 - val_accuracy: 0.6399\n",
            "Epoch 184/200\n",
            "182/182 - 9s - loss: 0.0111 - accuracy: 0.9928 - val_loss: 7.8251 - val_accuracy: 0.6454\n",
            "Epoch 185/200\n",
            "182/182 - 9s - loss: 0.0168 - accuracy: 0.9918 - val_loss: 7.0361 - val_accuracy: 0.6392\n",
            "Epoch 186/200\n",
            "182/182 - 9s - loss: 0.0180 - accuracy: 0.9911 - val_loss: 6.7619 - val_accuracy: 0.6296\n",
            "Epoch 187/200\n",
            "182/182 - 9s - loss: 0.0289 - accuracy: 0.9892 - val_loss: 6.3688 - val_accuracy: 0.6412\n",
            "Epoch 188/200\n",
            "182/182 - 9s - loss: 0.0265 - accuracy: 0.9909 - val_loss: 5.1876 - val_accuracy: 0.6316\n",
            "Epoch 189/200\n",
            "182/182 - 9s - loss: 0.0131 - accuracy: 0.9926 - val_loss: 5.9095 - val_accuracy: 0.6268\n",
            "Epoch 190/200\n",
            "182/182 - 9s - loss: 0.0136 - accuracy: 0.9923 - val_loss: 6.1670 - val_accuracy: 0.6316\n",
            "Epoch 191/200\n",
            "182/182 - 9s - loss: 0.0147 - accuracy: 0.9928 - val_loss: 6.1529 - val_accuracy: 0.6385\n",
            "Epoch 192/200\n",
            "182/182 - 9s - loss: 0.0138 - accuracy: 0.9926 - val_loss: 6.5555 - val_accuracy: 0.6296\n",
            "Epoch 193/200\n",
            "182/182 - 9s - loss: 0.0181 - accuracy: 0.9919 - val_loss: 6.0573 - val_accuracy: 0.6234\n",
            "Epoch 194/200\n",
            "182/182 - 9s - loss: 0.0158 - accuracy: 0.9918 - val_loss: 6.3764 - val_accuracy: 0.6412\n",
            "Epoch 195/200\n",
            "182/182 - 9s - loss: 0.0145 - accuracy: 0.9931 - val_loss: 6.3096 - val_accuracy: 0.6522\n",
            "Epoch 196/200\n",
            "182/182 - 9s - loss: 0.0118 - accuracy: 0.9933 - val_loss: 6.6550 - val_accuracy: 0.6454\n",
            "Epoch 197/200\n",
            "182/182 - 9s - loss: 0.0129 - accuracy: 0.9926 - val_loss: 6.6562 - val_accuracy: 0.6467\n",
            "Epoch 198/200\n",
            "182/182 - 9s - loss: 0.0111 - accuracy: 0.9933 - val_loss: 6.9431 - val_accuracy: 0.6419\n",
            "Epoch 199/200\n",
            "182/182 - 9s - loss: 0.0143 - accuracy: 0.9930 - val_loss: 7.4006 - val_accuracy: 0.6337\n",
            "Epoch 200/200\n",
            "182/182 - 9s - loss: 0.0139 - accuracy: 0.9916 - val_loss: 7.0319 - val_accuracy: 0.6296\n"
          ],
          "name": "stdout"
        }
      ]
    },
    {
      "cell_type": "code",
      "metadata": {
        "id": "3xPeGSIFMiQH",
        "colab_type": "code",
        "colab": {
          "base_uri": "https://localhost:8080/",
          "height": 544
        },
        "outputId": "e805c7f3-84ce-4a61-fe9e-a091f3cee2c5"
      },
      "source": [
        "#Define function to plot graph of accuracy and loss\n",
        "def plot_graphs(history, string):\n",
        "  plt.plot(history.history[string])\n",
        "  plt.plot(history.history['val_'+string])\n",
        "  plt.xlabel(\"Epochs\")\n",
        "  plt.ylabel(string)\n",
        "  plt.legend([string, 'val_'+string])\n",
        "  plt.show()\n",
        "\n",
        "plot_graphs(history, 'accuracy')\n",
        "plot_graphs(history, 'loss')"
      ],
      "execution_count": 54,
      "outputs": [
        {
          "output_type": "display_data",
          "data": {
            "image/png": "[encoded data removed]",
            "text/plain": [
              "<Figure size 432x288 with 1 Axes>"
            ]
          },
          "metadata": {
            "tags": [],
            "needs_background": "light"
          }
        },
        {
          "output_type": "display_data",
          "data": {
            "image/png": "[encoded data removed]",
            "text/plain": [
              "<Figure size 432x288 with 1 Axes>"
            ]
          },
          "metadata": {
            "tags": [],
            "needs_background": "light"
          }
        }
      ]
    },
    {
      "cell_type": "code",
      "metadata": {
        "id": "B0t_CK9gQdDd",
        "colab_type": "code",
        "colab": {}
      },
      "source": [
        "#Make prediction using X_test\n",
        "X_test = df_test['tweet']\n",
        "X_test = tokenizer.texts_to_sequences(X_test)\n",
        "X_test = pad_sequences(X_test, max_length, truncating=trunc_type, padding = 'post')\n",
        "final_pred = np.argmax(model.predict(X_test))"
      ],
      "execution_count": 0,
      "outputs": []
    },
    {
      "cell_type": "code",
      "metadata": {
        "id": "iQr-xVUhQ5Go",
        "colab_type": "code",
        "colab": {
          "base_uri": "https://localhost:8080/",
          "height": 202
        },
        "outputId": "9e575926-b9d2-490c-9bda-cee357f9365c"
      },
      "source": [
        "#View classification report\n",
        "y_pred = model.predict_classes(X_validation)\n",
        "\n",
        "print(classification_report(y_validation, y_pred))"
      ],
      "execution_count": 95,
      "outputs": [
        {
          "output_type": "stream",
          "text": [
            "              precision    recall  f1-score   support\n",
            "\n",
            "           0       0.36      0.40      0.38        77\n",
            "           1       0.75      0.68      0.71       871\n",
            "           2       0.52      0.61      0.56       483\n",
            "           3       0.00      0.00      0.00        24\n",
            "\n",
            "    accuracy                           0.63      1455\n",
            "   macro avg       0.41      0.42      0.41      1455\n",
            "weighted avg       0.64      0.63      0.63      1455\n",
            "\n"
          ],
          "name": "stdout"
        }
      ]
    },
    {
      "cell_type": "code",
      "metadata": {
        "id": "T0Xc-cHGqvIG",
        "colab_type": "code",
        "colab": {}
      },
      "source": [
        ""
      ],
      "execution_count": 0,
      "outputs": []
    }
  ]
}